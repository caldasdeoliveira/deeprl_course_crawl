{
 "cells": [
  {
   "cell_type": "markdown",
   "id": "20a423ee",
   "metadata": {},
   "source": [
    "# Udacity Deep Reinforcement Learning course - Project 2: Continuous Control - Report "
   ]
  },
  {
   "cell_type": "code",
   "execution_count": 1,
   "id": "50083e32",
   "metadata": {},
   "outputs": [],
   "source": [
    "from unityagents import UnityEnvironment\n",
    "import numpy as np\n",
    "\n",
    "import matplotlib.pyplot as plt\n",
    "%matplotlib inline\n",
    "\n",
    "import torch\n",
    "import pickle\n"
   ]
  },
  {
   "cell_type": "markdown",
   "id": "fcceac53",
   "metadata": {},
   "source": [
    "## Learning Algorithm\n",
    "\n",
    "The implemented algorithm was Deep Deterministic Policy Gradients (DDPG). \n",
    "The general flow of the algorithm is as follows:\n",
    "\n",
    "1. Initialize the environment\n",
    "2. Agent selects an action based on the current state\n",
    "3. The Agent executes the action. The actor network selects (deterministic) an action and some noise is added for exploration\n",
    "4. The environment receives the action and updates it's state\n",
    "5. The agent stores receives the outcome of its action and stores the new experience\n",
    "6. If the appropriate conditions are met the agent learns based on past experiences.\n",
    "        a. Get next actions based on the target actor network\n",
    "        b. Get the predicted next-state Q-Values from the target critic network\n",
    "        c. Compute Q targets for current states\n",
    "        d. Update local actor and critic networks\n",
    "        e. Soft-update target networks\n",
    "7. The loop repeats\n",
    "\n",
    "The hyper-parameters used are similar to the ones used in the course.\n",
    "\n",
    "* buffer_size = 1e5,\n",
    "* batch_size = 128,\n",
    "* gamma = 0.99,\n",
    "* tau = 1e-3,\n",
    "* lr_actor = 1e-3,\n",
    "* lr_critic = 1e-3,\n",
    "* noise_decay = 0.999,\n",
    "* update_every = 4,\n",
    "* n_episodes = 50, \n",
    "* max_t = 1000,\n",
    "* OUNoise:\n",
    "    * mu=0,\n",
    "    * theta=0.15,\n",
    "    * sigma=0.2\n",
    "    \n",
    "### Model\n",
    "\n",
    "The model used for the Actor network is a 3 layer fully connected neural network with 400, 300, 1 nodes respectively. `gelu` activation functions are used except for the output layer where we use `tanh`.\n",
    "\n",
    "The model used for the Critic is a 4 layer fully connected neural network with 128, 256+action_size, 128, 1 nodes respectively. We use `gelu` as the activation function for all layers except the output layer which has no activation function. Note that the first layer uses the state as input and the second concatenates the outputs of the first layer with the embedding of an action.\n",
    "\n",
    "\n",
    "## Training\n",
    "\n",
    "The environment was solved in the first 100 episodes\n",
    "\n",
    "```\n",
    "Episode 10\tAverage Score: 3.20\n",
    "Episode 20\tAverage Score: 18.35\n",
    "Episode 30\tAverage Score: 25.13\n",
    "Episode 40\tAverage Score: 28.15\n",
    "Episode 50\tAverage Score: 30.23\n",
    "Episode 60\tAverage Score: 31.62\n",
    "Episode 70\tAverage Score: 32.64\n",
    "Episode 80\tAverage Score: 33.33\n",
    "Episode 90\tAverage Score: 33.86\n",
    "Environment solved in 0 episodes!\tAverage Score: 34.32\n",
    "Episode 100\tAverage Score: 34.32\n",
    "```"
   ]
  },
  {
   "cell_type": "code",
   "execution_count": 20,
   "id": "b8705ef5",
   "metadata": {},
   "outputs": [],
   "source": [
    "with open('scores.pkl', 'rb') as f:\n",
    "    scores = pickle.load(f)"
   ]
  },
  {
   "cell_type": "code",
   "execution_count": 23,
   "id": "e3f971cb",
   "metadata": {},
   "outputs": [
    {
     "data": {
      "image/png": "[encoded data removed]",
      "text/plain": [
       "<Figure size 432x288 with 1 Axes>"
      ]
     },
     "metadata": {
      "needs_background": "light"
     },
     "output_type": "display_data"
    }
   ],
   "source": [
    "# plot the scores\n",
    "fig = plt.figure()\n",
    "ax = fig.add_subplot(111)\n",
    "plt.plot(np.arange(len(scores)), np.mean(scores, axis=1))\n",
    "plt.ylabel('Score')\n",
    "plt.xlabel('Episode #')\n",
    "plt.show()"
   ]
  },
  {
   "cell_type": "markdown",
   "id": "9d370461",
   "metadata": {},
   "source": [
    "## Example Run"
   ]
  },
  {
   "cell_type": "code",
   "execution_count": 4,
   "id": "ec9ecdf2",
   "metadata": {},
   "outputs": [
    {
     "name": "stderr",
     "output_type": "stream",
     "text": [
      "INFO:unityagents:\n",
      "'Academy' started successfully!\n",
      "Unity Academy name: Academy\n",
      "        Number of Brains: 1\n",
      "        Number of External Brains : 1\n",
      "        Lesson number : 0\n",
      "        Reset Parameters :\n",
      "\t\tgoal_speed -> 1.0\n",
      "\t\tgoal_size -> 5.0\n",
      "Unity brain name: ReacherBrain\n",
      "        Number of Visual Observations (per agent): 0\n",
      "        Vector Observation space type: continuous\n",
      "        Vector Observation space size (per agent): 33\n",
      "        Number of stacked Vector Observation: 1\n",
      "        Vector Action space type: continuous\n",
      "        Vector Action space size (per agent): 4\n",
      "        Vector Action descriptions: , , , \n"
     ]
    }
   ],
   "source": [
    "env = UnityEnvironment(file_name='Reacher.app')"
   ]
  },
  {
   "cell_type": "code",
   "execution_count": 5,
   "id": "bd0ebc48",
   "metadata": {},
   "outputs": [],
   "source": [
    "# get the default brain\n",
    "brain_name = env.brain_names[0]\n",
    "brain = env.brains[brain_name]"
   ]
  },
  {
   "cell_type": "code",
   "execution_count": 6,
   "id": "00904511",
   "metadata": {},
   "outputs": [],
   "source": [
    "# Value for random seed\n",
    "seed = 42"
   ]
  },
  {
   "cell_type": "code",
   "execution_count": 7,
   "id": "bb25b0b8",
   "metadata": {},
   "outputs": [],
   "source": [
    "# reset the environment\n",
    "env_info = env.reset(train_mode=False)[brain_name]\n",
    "\n",
    "# number of agents\n",
    "num_agents = len(env_info.agents)\n",
    "# size of each action\n",
    "action_size = brain.vector_action_space_size\n",
    "# examine the state space \n",
    "states = env_info.vector_observations\n",
    "state_size = states.shape[1]"
   ]
  },
  {
   "cell_type": "code",
   "execution_count": 8,
   "id": "0a408e2e",
   "metadata": {},
   "outputs": [
    {
     "name": "stdout",
     "output_type": "stream",
     "text": [
      "Loading actor from: ./checkpoint_actor.pth\n",
      "Loading critic from: ./checkpoint_critic.pth\n"
     ]
    }
   ],
   "source": [
    "from agent import Agent\n",
    "\n",
    "agent = Agent(state_size, action_size, seed, model_state_dict_path=\"./\")"
   ]
  },
  {
   "cell_type": "code",
   "execution_count": 9,
   "id": "fdcd15d6",
   "metadata": {},
   "outputs": [
    {
     "name": "stdout",
     "output_type": "stream",
     "text": [
      "Total score (averaged over agents) this episode: 38.975999128818515\n"
     ]
    }
   ],
   "source": [
    "env_info = env.reset(train_mode=False)[brain_name]     # reset the environment    \n",
    "states = env_info.vector_observations                  # get the current state (for each agent)\n",
    "scores = np.zeros(num_agents)                          # initialize the score (for each agent)\n",
    "while True:\n",
    "    actions = agent.act(states) # select an action (for each agent)\n",
    "    env_info = env.step(actions)[brain_name]           # send all actions to tne environment\n",
    "    next_states = env_info.vector_observations         # get next state (for each agent)\n",
    "    rewards = env_info.rewards                         # get reward (for each agent)\n",
    "    dones = env_info.local_done                        # see if episode finished\n",
    "    scores += env_info.rewards                         # update the score (for each agent)\n",
    "    states = next_states                               # roll over states to next time step\n",
    "    if np.any(dones):                                  # exit loop if episode finished\n",
    "        break\n",
    "print('Total score (averaged over agents) this episode: {}'.format(np.mean(scores)))"
   ]
  },
  {
   "cell_type": "code",
   "execution_count": 10,
   "id": "6e0d2b1f",
   "metadata": {},
   "outputs": [],
   "source": [
    "env.close()"
   ]
  },
  {
   "cell_type": "markdown",
   "id": "d9bc79f6",
   "metadata": {},
   "source": [
    "## Future Work\n",
    "\n",
    "* Compare to other algorithms (e.g. DQN)\n",
    "* Explore more NN architectures\n",
    "* Hyperparameter optimization with experiment tracking"
   ]
  },
  {
   "cell_type": "code",
   "execution_count": null,
   "id": "f2110837",
   "metadata": {},
   "outputs": [],
   "source": []
  }
 ],
 "metadata": {
  "kernelspec": {
   "display_name": "drl_continuous_control",
   "language": "python",
   "name": "drl_continuous_control"
  },
  "language_info": {
   "codemirror_mode": {
    "name": "ipython",
    "version": 3
   },
   "file_extension": ".py",
   "mimetype": "text/x-python",
   "name": "python",
   "nbconvert_exporter": "python",
   "pygments_lexer": "ipython3",
   "version": "3.6.13"
  }
 },
 "nbformat": 4,
 "nbformat_minor": 5
}
